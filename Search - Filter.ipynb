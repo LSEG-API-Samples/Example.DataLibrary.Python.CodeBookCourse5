{
 "cells": [
  {
   "cell_type": "markdown",
   "metadata": {},
   "source": [
    "## Filter\n",
    "One of the most powerful parameters when defining a search is the ability to filter the results.  While a Query is more of an unstructured approach to search for text within documents, a Filter provides a well-defined structured approach when we know which properties we want to restrict our matching documents.\n",
    "\n",
    "The following examples will be using some of the popular properties as outlined within the \"Properties & Metadata\" notebook.  In addition, the selection of these properties was determined based on the discovery techniques used such as metadata and debugging."
   ]
  },
  {
   "cell_type": "code",
   "execution_count": null,
   "metadata": {},
   "outputs": [],
   "source": [
    "import refinitiv.data as rd\n",
    "from refinitiv.data.content import search\n",
    "import pandas as pd\n",
    "import datetime as dt\n",
    "import dateutil.relativedelta\n",
    "\n",
    "# Default session - desktop\n",
    "rd.open_session()"
   ]
  },
  {
   "cell_type": "code",
   "execution_count": null,
   "metadata": {},
   "outputs": [],
   "source": [
    "# Uncomment the following to see a larger data set when displaying to the screen.\n",
    "pd.set_option('display.max_colwidth', 140)\n",
    "#pd.set_option('display.max_rows', 10000)\n",
    "\n",
    "rd.__version__"
   ]
  },
  {
   "cell_type": "markdown",
   "metadata": {},
   "source": [
    "#### Example - Query vs Filter\n",
    "As you become more familiar with Search, you will realize there are a number of different paths you can take to arrive at the same destination."
   ]
  },
  {
   "cell_type": "code",
   "execution_count": null,
   "metadata": {},
   "outputs": [],
   "source": [
    "# Retrieve the document(s) for a specific ISIN (Astra Zeneca) using a Query.\n",
    "response=search.Definition(\n",
    "    view = search.SearchViews.INSTRUMENTS,\n",
    "    query = 'US046353AQ14',\n",
    "    select = 'DocumentTitle, RIC, ISIN, CUSIP, SEDOL, PermID'\n",
    ").get_data()\n",
    "response.data.df"
   ]
  },
  {
   "cell_type": "code",
   "execution_count": null,
   "metadata": {},
   "outputs": [],
   "source": [
    "# Retrieve the document(s) for the same ISIN using a Filter\n",
    "response=search.Definition(\n",
    "    view = search.SearchViews.INSTRUMENTS,\n",
    "    filter = \"ISIN eq 'US046353AQ14'\",\n",
    "    select = 'DocumentTitle, RIC, ISIN, CUSIP, SEDOL, PermID'\n",
    ").get_data()\n",
    "response.data.df"
   ]
  },
  {
   "cell_type": "markdown",
   "metadata": {},
   "source": [
    "#### Example - Apple Equities"
   ]
  },
  {
   "cell_type": "code",
   "execution_count": null,
   "metadata": {},
   "outputs": [],
   "source": [
    "# Within the view (EquityQuotes), select all documents where the term 'AAPL' is within the ticker symbol.  For each, \n",
    "# ensure the type of asset is an 'equity' and that each asset is in an active state.  I chose to filter out the \n",
    "# AssetState of 'DC' (De-activated) as my criteria. By default, the top 10 results are presented.\n",
    "#\n",
    "# Note: An alternative to \"AssetType eq 'equity'\" could be to use: \"RCSAssetCategoryLeaf eq 'Ordinary Share'\"\n",
    "response=search.Definition(\n",
    "    view = search.SearchViews.EQUITY_QUOTES,\n",
    "    filter = \"AssetType eq 'equity' and AssetState ne 'DC' and TickerSymbol eq 'AAPL'\",\n",
    "    select = \"RIC, CompositeDescriptiveName, ExchangeCode, ExchangeName, AssetType\"\n",
    ").get_data()\n",
    "response.data.df"
   ]
  },
  {
   "cell_type": "code",
   "execution_count": null,
   "metadata": {},
   "outputs": [],
   "source": [
    "response.total"
   ]
  },
  {
   "cell_type": "markdown",
   "metadata": {},
   "source": [
    "#### Example - Vessels\n",
    "List all Very Large Gas Containers (VLGC) that are in service within the last week."
   ]
  },
  {
   "cell_type": "code",
   "execution_count": null,
   "metadata": {},
   "outputs": [],
   "source": [
    "# Build date range expression for the location of the vessel for the last 7 days\n",
    "date_7_days_ago = dt.datetime.today() - dateutil.relativedelta.relativedelta(days=7)\n",
    "date_range = f'LocationTimestamp ge {date_7_days_ago.strftime(\"%Y-%m-%d\")} and \\\n",
    "               LocationTimestamp lt {dt.datetime.today().strftime(\"%Y-%m-%d\")}'"
   ]
  },
  {
   "cell_type": "code",
   "execution_count": null,
   "metadata": {},
   "outputs": [],
   "source": [
    "# Show the location of each vessel and some general details such as location, destination and coordinates.\n",
    "# If available, show the top 10 hits.\n",
    "response=search.Definition(\n",
    "    view = search.SearchViews.VESSEL_PHYSICAL_ASSETS,\n",
    "    filter = f\"RCSAssetTypeLeaf eq 'VLGC' and VesselStatus eq 'IN SERVICE' and {date_range}\",\n",
    "    select = 'RIC, SynonymSearchAll, DTSource, LocationTimestamp, IMO,Latitude, Longitude, LocationDestination'\n",
    ").get_data()\n",
    "response.data.df"
   ]
  },
  {
   "cell_type": "markdown",
   "metadata": {},
   "source": [
    "#### Example - Floating Rate Notes\n",
    "Retrieve all floating rate notes (floating coupon) in the healthcare sector which are issued in Euros.  For each, ensure the coupon rate is great than 2 and our Moody's rating is greater than 'Baa1'.\n",
    "\n",
    "To determine the rating, we apply the following logic utilizing the RatingsScope property - which is a nested property providing additional details:\n",
    "\n",
    "- RatingsScope(RatingType eq 'MIS' and CurrentRatingRank lt 10)\n",
    "\n",
    "The RatingType of 'MIS' refers to the \"Moody's Long-term Issuer Rating\".\n",
    "The CurrentRatingRank < 10 instructs search to look for ratings less than 10 ('Baa1').  **Note**: The lower the rank, the better the rating."
   ]
  },
  {
   "cell_type": "code",
   "execution_count": null,
   "metadata": {},
   "outputs": [],
   "source": [
    "response=search.Definition(\n",
    "    view = search.SearchViews.GOV_CORP_INSTRUMENTS,\n",
    "    filter = \"CouponRate gt 2 and \\\n",
    "              RatingsScope(RatingType eq 'MIS' and CurrentRatingRank lt 10) and \\\n",
    "              RCSCouponTypeName eq 'Floating Coupon' and \\\n",
    "              IsActive eq true and \\\n",
    "              RCSTRBC2012Name eq 'Healthcare' and \\\n",
    "              RCSCurrencyLeaf xeq 'Euro'\",\n",
    "    select = \"CouponCurrency, IssuerName, IssueDate, RIC, CouponRate, ISIN, Ticker, RCSTRBC2012Leaf, MaturityDate, AssetState\",   \n",
    ").get_data()\n",
    "response.data.df"
   ]
  },
  {
   "cell_type": "markdown",
   "metadata": {},
   "source": [
    "#### Example - Outstanding Green Bonds\n",
    "List the outstanding Green Bonds for Telefonica."
   ]
  },
  {
   "cell_type": "code",
   "execution_count": null,
   "metadata": {},
   "outputs": [],
   "source": [
    "response=search.Definition(\n",
    "    view = search.SearchViews.GOV_CORP_INSTRUMENTS,\n",
    "    filter = \"IssuerName eq 'Telefonica' and IsGreenBond eq true\",\n",
    "    select = \"IssuerName, DocumentTitle, RIC, CouponRate, ISIN, IssuerTicker, DebtTypeDescription, EOMAmountOutstanding, FaceOutstanding\"\n",
    ").get_data()\n",
    "response.data.df"
   ]
  },
  {
   "cell_type": "markdown",
   "metadata": {},
   "source": [
    "#### Example - Top executives"
   ]
  },
  {
   "cell_type": "code",
   "execution_count": null,
   "metadata": {},
   "outputs": [],
   "source": [
    "# Using the People View, we can utilize the OfficerDirector property, which contains a number of nested or sub-properties \n",
    "# that allow me to perform a more fine-grained search against active people that have been assigned a title code of \n",
    "# CEO (Chief Executive Officer). The results are listed based on a default rank defined by the search service.\n",
    "response=search.Definition(\n",
    "    view = search.SearchViews.PEOPLE,\n",
    "    filter = \"OfficerDirector(RoleTitleCode eq 'CEO' and RoleStatus eq 'Active')\",\n",
    "    top = 20,\n",
    "    select = \"FullName, PrimaryTitleAsReported, PrimaryOfficerDirector, RIC, OfficerDirectorActiveCompanies, PrimaryOfficerDirectorRIC\"\n",
    ").get_data()\n",
    "response.data.df"
   ]
  },
  {
   "cell_type": "code",
   "execution_count": null,
   "metadata": {},
   "outputs": [],
   "source": [
    "rd.close_session()"
   ]
  },
  {
   "cell_type": "code",
   "execution_count": null,
   "metadata": {},
   "outputs": [],
   "source": []
  }
 ],
 "metadata": {
  "kernelspec": {
   "display_name": "Python 3 (ipykernel)",
   "language": "python",
   "name": "python3"
  },
  "language_info": {
   "codemirror_mode": {
    "name": "ipython",
    "version": 3
   },
   "file_extension": ".py",
   "mimetype": "text/x-python",
   "name": "python",
   "nbconvert_exporter": "python",
   "pygments_lexer": "ipython3",
   "version": "3.8.8"
  },
  "widgets": {
   "application/vnd.jupyter.widget-state+json": {
    "state": {},
    "version_major": 2,
    "version_minor": 0
   }
  }
 },
 "nbformat": 4,
 "nbformat_minor": 4
}
