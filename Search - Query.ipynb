{
 "cells": [
  {
   "cell_type": "markdown",
   "metadata": {},
   "source": [
    "## Query\n",
    "The most basic search that can be performed is the query.  The query is a free-formed text expression, similar to the type of query you can perform within Google, matching against documents within the specified view."
   ]
  },
  {
   "cell_type": "code",
   "execution_count": null,
   "metadata": {},
   "outputs": [],
   "source": [
    "import refinitiv.data as rd\n",
    "from refinitiv.data.content import search\n",
    "import pandas as pd\n",
    "\n",
    "# Default session - desktop\n",
    "rd.open_session()"
   ]
  },
  {
   "cell_type": "code",
   "execution_count": null,
   "metadata": {},
   "outputs": [],
   "source": [
    "# Uncomment the following to see a larger data set when displaying to the screen.\n",
    "pd.set_option('display.max_colwidth', 140)\n",
    "pd.set_option('display.max_rows', 10000)\n",
    "\n",
    "rd.__version__"
   ]
  },
  {
   "cell_type": "markdown",
   "metadata": {},
   "source": [
    "#### Query - Default behavior"
   ]
  },
  {
   "cell_type": "code",
   "execution_count": null,
   "metadata": {},
   "outputs": [],
   "source": [
    "# The default syntax for search is to specify a query expression.  By default, search will return a default set of \n",
    "# fields (Properties).\n",
    "response=search.Definition('IBM').get_data()\n",
    "response.data.df"
   ]
  },
  {
   "cell_type": "code",
   "execution_count": null,
   "metadata": {},
   "outputs": [],
   "source": [
    "# By default, 10 documents will be returned.  Let's override that.\n",
    "# Search will utilize internal properties to rank the most relevant documents based on the requested criteria\n",
    "response=search.Definition(\n",
    "    query = 'IBM',\n",
    "    top = 100\n",
    ").get_data()\n",
    "response.data.df"
   ]
  },
  {
   "cell_type": "markdown",
   "metadata": {},
   "source": [
    "#### Query Expressions\n",
    "If we were to type in the following expression, we might come away believing the query will list all personnel within IBM that have a title\n",
    "of CEO.  While, the results will indicate people related to IBM and people with a title of CEO, we cannot assume they are both.  That is, \n",
    "we will see results with the term IBM and CEO listed in the document."
   ]
  },
  {
   "cell_type": "code",
   "execution_count": null,
   "metadata": {},
   "outputs": [],
   "source": [
    "# Match all documents where the term Apple and CEO appear in any order\n",
    "# Try other expressions ('Apple Inc CEO' and '\"Apple Inc\" CEO')\n",
    "query = 'Apple CEO'\n",
    "response=search.Definition(query).get_data()\n",
    "response.data.df"
   ]
  },
  {
   "cell_type": "markdown",
   "metadata": {},
   "source": [
    "Alernately, I can do this by selecting the '**People**' view."
   ]
  },
  {
   "cell_type": "code",
   "execution_count": null,
   "metadata": {},
   "outputs": [],
   "source": [
    "response=search.Definition(\n",
    "    view = search.SearchViews.PEOPLE,\n",
    "    query = query\n",
    ").get_data()\n",
    "response.data.df"
   ]
  },
  {
   "cell_type": "code",
   "execution_count": null,
   "metadata": {},
   "outputs": [],
   "source": [
    "# Search for a specific ISIN using query (AstraZeneca)\n",
    "response=search.Definition('US046353AQ14').get_data()\n",
    "response.data.df"
   ]
  },
  {
   "cell_type": "code",
   "execution_count": null,
   "metadata": {},
   "outputs": [],
   "source": [
    "# Narrow the search to only instruments\n",
    "response=search.Definition(\n",
    "    view = search.SearchViews.INSTRUMENTS,\n",
    "    query = 'US046353AQ14'\n",
    ").get_data()\n",
    "response.data.df"
   ]
  },
  {
   "cell_type": "markdown",
   "metadata": {},
   "source": [
    "#### Query Syntax\n",
    "A query phrase can support some basic syntax including wildcards, boolean expressions and exact phrase matching."
   ]
  },
  {
   "cell_type": "code",
   "execution_count": null,
   "metadata": {},
   "outputs": [],
   "source": [
    "# Use a specifc term in quotes and the boolean operator to locate specific tankers\n",
    "# Supports boolean expressions 'and', 'or'\n",
    "response = search.Definition('\"Caribbean Tanker\" and Baltic').get_data()\n",
    "print(f'Matched a total of {response.total} documents')\n",
    "response.data.df"
   ]
  },
  {
   "cell_type": "code",
   "execution_count": null,
   "metadata": {},
   "outputs": [],
   "source": [
    "# Use a wildcard (*) to search for references to 'Covid*'.\n",
    "# Specified specific data fields in the response\n",
    "response=search.Definition(\n",
    "    query = \"Covid*\",\n",
    "    select = \"DTSubjectName, DTSimpleType, DTSource, DTCharacteristics\"\n",
    ").get_data()\n",
    "print(f'Matched a total of {response.total} documents')\n",
    "response.data.df"
   ]
  },
  {
   "cell_type": "code",
   "execution_count": null,
   "metadata": {},
   "outputs": [],
   "source": [
    "rd.close_session()"
   ]
  },
  {
   "cell_type": "code",
   "execution_count": null,
   "metadata": {},
   "outputs": [],
   "source": []
  }
 ],
 "metadata": {
  "kernelspec": {
   "display_name": "Python 3 (ipykernel)",
   "language": "python",
   "name": "python3"
  },
  "language_info": {
   "codemirror_mode": {
    "name": "ipython",
    "version": 3
   },
   "file_extension": ".py",
   "mimetype": "text/x-python",
   "name": "python",
   "nbconvert_exporter": "python",
   "pygments_lexer": "ipython3",
   "version": "3.8.8"
  },
  "widgets": {
   "application/vnd.jupyter.widget-state+json": {
    "state": {},
    "version_major": 2,
    "version_minor": 0
   }
  }
 },
 "nbformat": 4,
 "nbformat_minor": 4
}
